{
 "cells": [
  {
   "cell_type": "markdown",
   "metadata": {},
   "source": [
    "### Maximum of two"
   ]
  },
  {
   "cell_type": "markdown",
   "metadata": {},
   "source": [
    "Define a function ```max_of_two()``` that takes two numbers as arguments and returns the largest of them. Use the if-then-else construct available in Python. (It is true that Python has the max() function built in, but writing it yourself is nevertheless a good exercise.)\n",
    "\n",
    "(Credits:  [Thorbjoern Lager](https://www.gu.se/english/about_the_university/staff/?languageId=100001&userId=xlagto))"
   ]
  },
  {
   "cell_type": "code",
   "execution_count": 4,
   "metadata": {},
   "outputs": [
    {
     "name": "stdout",
     "output_type": "stream",
     "text": [
      "The numbers are equal\n"
     ]
    }
   ],
   "source": [
    "\n",
    "\n",
    "\n",
    "def maxoftwo(x,y):\n",
    "    if x > y:\n",
    "        return x\n",
    "    elif y > x:\n",
    "        return y\n",
    "    else:\n",
    "        print('The numbers are equal')\n",
    "\n",
    "\n",
    "maxoftwo(1,1)\n"
   ]
  },
  {
   "cell_type": "markdown",
   "metadata": {},
   "source": [
    "### Maximum of three"
   ]
  },
  {
   "cell_type": "markdown",
   "metadata": {},
   "source": [
    "Define a function ```max_of_three()``` that takes three numbers as arguments and returns the largest of them. Use if-then-else.\n",
    "\n",
    "(Credits:  [Thorbjoern Lager](https://www.gu.se/english/about_the_university/staff/?languageId=100001&userId=xlagto))"
   ]
  },
  {
   "cell_type": "code",
   "execution_count": 6,
   "metadata": {},
   "outputs": [
    {
     "name": "stdout",
     "output_type": "stream",
     "text": [
      "The numbers are equal\n"
     ]
    }
   ],
   "source": [
    "def maxofthree(x,y,f):\n",
    "    if x > y and x > f:\n",
    "        return x\n",
    "    elif y > x and y > f:\n",
    "        return y\n",
    "    elif f > x and f > y:\n",
    "        return f\n",
    "    else:\n",
    "        print('The numbers are equal')\n",
    "\n",
    "\n",
    "maxofthree(1,1,1)"
   ]
  },
  {
   "cell_type": "markdown",
   "metadata": {},
   "source": [
    "### Maximum of many"
   ]
  },
  {
   "cell_type": "markdown",
   "metadata": {},
   "source": [
    "Define a function ```listMax()``` that takes a list as argument and returns a tuple with the maximum and its index in the list.\n",
    "\n",
    "(Credits:  [Thorbjoern Lager](https://www.gu.se/english/about_the_university/staff/?languageId=100001&userId=xlagto), adapted)"
   ]
  },
  {
   "cell_type": "code",
   "execution_count": 7,
   "metadata": {},
   "outputs": [
    {
     "data": {
      "text/plain": [
       "(10, 9)"
      ]
     },
     "execution_count": 7,
     "metadata": {},
     "output_type": "execute_result"
    }
   ],
   "source": [
    "list = [1,2,3,4,5,6,7,8,9,10]\n",
    "\n",
    "def listMax(list):\n",
    "   x = max(list)\n",
    "   y = list.index(x)\n",
    "   return x, y\n",
    "\n",
    "listMax(list)\n"
   ]
  },
  {
   "cell_type": "markdown",
   "metadata": {},
   "source": [
    "### Roll your own"
   ]
  },
  {
   "cell_type": "markdown",
   "metadata": {},
   "source": [
    "Take the three functions you coded above and put them in a file called ```mymax.py``` to make a module. Then try writing a simple program that starts with \n",
    "```\n",
    "import mymax\n",
    "```\n",
    "and calls the functions you wrote as ```mymax.max_of_three()```, etc"
   ]
  },
  {
   "cell_type": "code",
   "execution_count": 10,
   "metadata": {},
   "outputs": [
    {
     "data": {
      "text/plain": [
       "2"
      ]
     },
     "execution_count": 10,
     "metadata": {},
     "output_type": "execute_result"
    }
   ],
   "source": [
    "\n",
    "import mymax as mymax\n",
    "\n",
    "\n",
    "mymax.maxoftwo(1,2)"
   ]
  },
  {
   "cell_type": "markdown",
   "metadata": {},
   "source": [
    "### Histogram"
   ]
  },
  {
   "cell_type": "markdown",
   "metadata": {},
   "source": [
    "Define a procedure ```histogram()``` that takes a list of integers and prints a histogram to the screen. For example, ```histogram([4, 9, 7])``` should print the following:\n",
    "```\n",
    "****\n",
    "*********\n",
    "*******\n",
    "```\n",
    "Note: a *procedure* is a function that does not return any value, it simply *does* something.\n",
    "\n",
    "(Credits:  [Thorbjoern Lager](https://www.gu.se/english/about_the_university/staff/?languageId=100001&userId=xlagto))"
   ]
  },
  {
   "cell_type": "code",
   "execution_count": 13,
   "metadata": {},
   "outputs": [
    {
     "name": "stdout",
     "output_type": "stream",
     "text": [
      "****\n",
      "*********\n",
      "*******\n"
     ]
    }
   ],
   "source": [
    "testlist = [4,9,7]\n",
    "\n",
    "\n",
    "def histogram(list):\n",
    "    for i in list:\n",
    "        print(\"*\" * i)\n",
    "\n",
    "\n",
    "histogram(testlist)\n",
    "\n"
   ]
  },
  {
   "cell_type": "markdown",
   "metadata": {},
   "source": [
    "### Got it all backwards"
   ]
  },
  {
   "cell_type": "markdown",
   "metadata": {},
   "source": [
    "Define a function ```reverse()``` that takes a string as an argument and returns it reversed. For instance,   ```reverse(\"I am testing\")``` should return the string \"gnitset ma I\".\n",
    "\n",
    "\n",
    "(Credits:  [Thorbjoern Lager](https://www.gu.se/english/about_the_university/staff/?languageId=100001&userId=xlagto))"
   ]
  },
  {
   "cell_type": "code",
   "execution_count": 21,
   "metadata": {},
   "outputs": [
    {
     "data": {
      "text/plain": [
       "'gnitset ma I'"
      ]
     },
     "execution_count": 21,
     "metadata": {},
     "output_type": "execute_result"
    }
   ],
   "source": [
    "t_string = \"I am testing\"\n",
    "\n",
    "\n",
    "def reverse(string):\n",
    "    r_string = string[::-1]\n",
    "    return r_string\n",
    "\n",
    "reverse(t_string)"
   ]
  },
  {
   "cell_type": "markdown",
   "metadata": {},
   "source": [
    "### Palindromes"
   ]
  },
  {
   "cell_type": "markdown",
   "metadata": {},
   "source": [
    "A palindrome is a word or sentence that is unaltered when read backwards.\n",
    "\n",
    "Write a palindrome recognizer ```isPalindrome()``` that accepts phrase palindromes such as \"Go hang a salami I'm a lasagna hog.\", \"Was it a rat I saw?\", \"Step on no pets\", \"Sit on a potato pan, Otis\", \"Lisa Bonet ate no basil\", \"Satan, oscillate my metallic sonatas\", \"I roamed under it as a tired nude Maori\", \"Rise to vote sir\", or the exclamation \"Dammit, I'm mad!\". Note that punctuation, capitalization, and spacing are usually ignored. \n",
    "\n",
    "Your function should return ```True``` for palindromes and ```False``` otherwise. Your function should use the ```reverse()``` function you just programmed to do its job.\n",
    "\n",
    "(Credits:  [Thorbjoern Lager](https://www.gu.se/english/about_the_university/staff/?languageId=100001&userId=xlagto))"
   ]
  },
  {
   "cell_type": "code",
   "execution_count": 28,
   "metadata": {},
   "outputs": [
    {
     "name": "stdout",
     "output_type": "stream",
     "text": [
      "WASITARATISAW\n",
      "WASITARATISAW\n"
     ]
    },
    {
     "data": {
      "text/plain": [
       "True"
      ]
     },
     "execution_count": 28,
     "metadata": {},
     "output_type": "execute_result"
    }
   ],
   "source": [
    "\n",
    "\n",
    "def isPalinedrome(p):\n",
    "    p = p.upper()\n",
    "    p = p.replace(\" \", \"\")\n",
    "    print(p)\n",
    "    print(reverse(p))\n",
    "    if reverse(p) == p:\n",
    "        return True\n",
    "    else:\n",
    "        return False\n",
    "\n",
    "palindrome = \"Was it a rat I saw\"\n",
    "isPalinedrome(palindrome)\n",
    "\n"
   ]
  },
  {
   "cell_type": "markdown",
   "metadata": {},
   "source": [
    "### Default arguments and calling styles"
   ]
  },
  {
   "cell_type": "markdown",
   "metadata": {},
   "source": [
    "Try calling the procedure below in the following ways, that are all legal, and see what happens:\n",
    "```\n",
    "aProc(\"eggs\", \"bacon\") # specify both arguments (the usual way)\n",
    "aProc() # use default values\n",
    "aProc(\"goo\") # only specifies first argument\n",
    "aProc(second=\"more spam\") # only specifies second argument\n",
    "pet=[\"Humpty\", \"Dumpty\"]\n",
    "aProc(*pet) # both arguments as a list \n",
    "meg_and_mog={'first': 'Meg', 'second': 'Mog'} \n",
    "aProc(**meg_and_mog) # both arguments as a dictionary\n",
    "```"
   ]
  },
  {
   "cell_type": "code",
   "execution_count": 34,
   "metadata": {},
   "outputs": [
    {
     "name": "stdout",
     "output_type": "stream",
     "text": [
      "The first argument is:  Humpty\n",
      "And the second is    :  Dumpty\n",
      "---------------------------------\n",
      "The first argument is:  Meg\n",
      "And the second is    :  Mog\n",
      "---------------------------------\n"
     ]
    }
   ],
   "source": [
    "def aProc(first=\"spam\", second=\"ham\"):\n",
    "    \"\"\" This procedure has default values for its arguments \"\"\"\n",
    "    print(\"The first argument is: \", first)\n",
    "    print(\"And the second is    : \", second)\n",
    "    print(\"---------------------------------\")\n",
    "\n",
    "pet=[\"Humpty\", \"Dumpty\"]\n",
    "aProc(*pet)\n",
    "\n",
    "meg_and_mog={'first': 'Meg', 'second': 'Mog'} \n",
    "aProc(**meg_and_mog)"
   ]
  },
  {
   "cell_type": "markdown",
   "metadata": {},
   "source": [
    "### Lingo"
   ]
  },
  {
   "cell_type": "markdown",
   "metadata": {},
   "source": [
    "\n",
    "\n",
    "In a game of Lingo, there is a hidden word, five characters long. The object of the game is to find this word by guessing, and in return receive two kinds of clues: 1) the characters that are fully correct, with respect to identity as well as to position, and 2) the characters that are indeed present in the word, but which are placed in the wrong position. Write a program with which one can play Lingo. Use square brackets to mark characters correct in the sense of 1), and ordinary parentheses to mark characters correct in the sense of 2). For the sake of the exercise, your program should pass each character in the user input to a function that \"packages\" it in brackets (or not). In turn, this should use two separate functions to check if either 1) or 2) apply.\n",
    "\n",
    "Assuming, for example, that the program conceals the word \"tiger\", you should be able to interact with it in the following way:\n",
    "\n",
    "```\n",
    "snake\n",
    "Clue: snak(e)\n",
    "least\n",
    "Clue: l(e)as(t)\n",
    "times\n",
    "Clue: [t][i]m[e]s\n",
    "tiger\n",
    "Clue: [t][i][g][e][r]\n",
    "```\n",
    "\n",
    "(Credits:  [Thorbjoern Lager](https://www.gu.se/english/about_the_university/staff/?languageId=100001&userId=xlagto))"
   ]
  },
  {
   "cell_type": "code",
   "execution_count": 40,
   "metadata": {},
   "outputs": [
    {
     "data": {
      "text/plain": [
       "False"
      ]
     },
     "execution_count": 40,
     "metadata": {},
     "output_type": "execute_result"
    }
   ],
   "source": [
    "secret = \"tiger\"\n",
    "secret = secret.upper()\n",
    "\n",
    "guess = \"least\"\n",
    "guess = guess.upper()\n",
    "\n",
    "\n",
    "### function to check fully correct  (=position + identity) ###\n",
    "char = \"t\"\n",
    "\n",
    "\n",
    "\n",
    "def isFullycorrect(char, si = 0, ei = -1): # index used to deal with repeat characters? What if a word has two t's?\n",
    "    if char in secret:\n",
    "        identity = True\n",
    "    else:\n",
    "        identity = False\n",
    "        return False\n",
    "    if guess.index(char, si, ei) == secret.index(char, si, ei):\n",
    "        position = True\n",
    "    else:\n",
    "        position = False\n",
    "    if identity == True and position == True:\n",
    "        return True\n",
    "\n",
    "    \n",
    "isFullycorrect(char)\n",
    "\n",
    "\n",
    "\n",
    "    \n",
    "\n",
    "\n",
    "### function to check if character is present ###\n",
    "\n",
    "\n",
    "### packaging function ###\n",
    "\n",
    "\n",
    "### idea: dictoonary, or looping oveer the word"
   ]
  },
  {
   "cell_type": "markdown",
   "metadata": {},
   "source": [
    "### Born on the Fourth of July"
   ]
  },
  {
   "cell_type": "markdown",
   "metadata": {},
   "source": [
    "You now have all the tools and the knowledge to do fairly complex stuff. Let's try some data analysis -\n",
    "read [this story](https://fivethirtyeight.com/features/some-people-are-too-superstitious-to-have-a-baby-on-friday-the-13th/) online, and download the underlying data - it's available in a [github repository](https://github.com/fivethirtyeight/data/tree/master/births). Read the ```README.md``` file carefully and make a note of file format, then click on ```US_births_2000-2014_SSA.csv```, click on *Raw* and use the *File>Save Page As* (or equivalent) function of your browser to save the file in  your working directory (if this does not work for you, you can download the entire repository from GitHub as you would one of our lectures, and then copy the file over).\n",
    "\n",
    "* Write a function that reads all the data into a list of *(year, month, date_of_month, day_of_week, births)* tuples. Remember to convert all data to type ```int```\n",
    "* Warm-up exercise: for the sake of the title, compute the average number of people born yearly on July 4th (hint: that should be around 8815.27). If you are curious, do the same for people born on Friday 13th, and people born on a Friday that's not the 13th.\n",
    "\n",
    "Data aggregation is a basic stepstone of data analysis. We can aggregate birth data with respect to each of the first  four columns to find how many people were born in each year, on each day of the week or on each date of the month.\n",
    "\n",
    "* Write a function called ```aggregate``` that takes as its arguments the data and the number of a \"key\" column for aggregation. The function should return a dictionary. The keys of the dictionary should be all values of the \"key\" column; the corresponding values should be the total of all births listed against each value of the \"key\" column. So for instance if the \"key\" column is number 3 (*day_of_week*), the dictionary should have keys 1 to 7 and the value for, say, key 1 should be the sum of all births for which *day_of_week* is listed as being 1.\n",
    "\n",
    "Hint: this is somewhat similar to the \"Counting Vowels\" exercise (in both \"Collections\" and \"Files\" lectures), except the key values now are taken from the data table itself, and increments are given by the number of births. If you get stuck, try hard-coding it for the *day_of_week* column only, move on to the following part, test the two functions together, and then come back to this.\n",
    "\n",
    "* Write a function called ```print_stats``` that takes as its argument an aggregated data dictionary as returned by ```aggregate``` and prints it out as a nice table of key-value pairs, sorted by key.\n",
    "\n",
    "* Use the above two functions to compute and tabulate the total number of births in each year, on each day of the week, in each month and on each date of the month. Can you spot any interesting trends?\n",
    "\n",
    "**NOTE:** This is a slightly more complex exercise - you may not have the time to go beyond the warm-up part in class, but we recommend you attempt the rest in your own time. Be prepared for the second part to require some thinking. This exercise is also, like all exploratory data analysis tasks, very open-ended - if you want to do more, you can modify the ```histogram``` function to take a dictionary as its input, and use it to plot the percentage of people born on each day of the week, month or date of the month. You can also try analysing the data in the other birth data file, ```US_births_1994-2003_CDC_NCHS.csv```, that is formatted in the same way, and see if any trends you identified are confirmed in the longer term."
   ]
  }
 ],
 "metadata": {
  "kernelspec": {
   "display_name": "Python 3.8.9 64-bit",
   "language": "python",
   "name": "python3"
  },
  "language_info": {
   "codemirror_mode": {
    "name": "ipython",
    "version": 3
   },
   "file_extension": ".py",
   "mimetype": "text/x-python",
   "name": "python",
   "nbconvert_exporter": "python",
   "pygments_lexer": "ipython3",
   "version": "3.8.9"
  },
  "vscode": {
   "interpreter": {
    "hash": "31f2aee4e71d21fbe5cf8b01ff0e069b9275f58929596ceb00d14d90e3e16cd6"
   }
  }
 },
 "nbformat": 4,
 "nbformat_minor": 1
}
